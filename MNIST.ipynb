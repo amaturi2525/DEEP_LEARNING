{
  "nbformat": 4,
  "nbformat_minor": 0,
  "metadata": {
    "colab": {
      "name": "MNIST.ipynb",
      "version": "0.3.2",
      "provenance": [],
      "collapsed_sections": [],
      "include_colab_link": true
    },
    "kernelspec": {
      "name": "python3",
      "display_name": "Python 3"
    }
  },
  "cells": [
    {
      "cell_type": "markdown",
      "metadata": {
        "id": "view-in-github",
        "colab_type": "text"
      },
      "source": [
        "<a href=\"https://colab.research.google.com/github/amaturi2525/DEEP_LEARNING/blob/master/MNIST.ipynb\" target=\"_parent\"><img src=\"https://colab.research.google.com/assets/colab-badge.svg\" alt=\"Open In Colab\"/></a>"
      ]
    },
    {
      "metadata": {
        "id": "bF4CAk3uIR4y",
        "colab_type": "code",
        "colab": {
          "base_uri": "https://localhost:8080/",
          "height": 225
        },
        "outputId": "974de3aa-e196-468a-c911-793100a1406e"
      },
      "cell_type": "code",
      "source": [
        "#コメント入れながらtensorflowのチュートリアルやるだけ\n",
        "\n",
        "#ライブラリの読み込み\n",
        "import tensorflow as tf\n",
        "\n",
        "#データセットのダウンロード\n",
        "mnist = tf.keras.datasets.mnist\n",
        "\n",
        "#ダウンロードしたデータを学習とテストに分ける\n",
        "#x：入力　y:ラベル　で分ける\n",
        "(x_train, y_train),(x_test,y_test) = mnist.load_data()\n",
        "\n",
        "#ベクトルを0~1になるよう調整\n",
        "x_train, x_test = x_train / 255.0, x_test / 255.0\n",
        "\n",
        "#モデルの定義\n",
        "model = tf.keras.models.Sequential([\n",
        "    tf.keras.layers.Flatten(),#平滑化　1次元?\n",
        "    tf.keras.layers.Dense(512, activation=tf.nn.relu),#ノード\n",
        "    tf.keras.layers.Dropout(0.2),#過学習防止\n",
        "    tf.keras.layers.Dense(10,activation=tf.nn.softmax)#ノード、合計値1\n",
        "])\n",
        "\n",
        "#条件を決める\n",
        "model.compile(optimizer='adam',\n",
        "             loss='sparse_categorical_crossentropy',\n",
        "             metrics=['accuracy'])\n",
        "\n",
        "#学習\n",
        "model.fit(x_train, y_train, epochs=5)\n",
        "\n",
        "#評価\n",
        "model.evaluate(x_test, y_test)"
      ],
      "execution_count": 17,
      "outputs": [
        {
          "output_type": "stream",
          "text": [
            "Epoch 1/5\n",
            "60000/60000 [==============================] - 18s 295us/step - loss: 0.2025 - acc: 0.9403\n",
            "Epoch 2/5\n",
            "60000/60000 [==============================] - 17s 276us/step - loss: 0.0832 - acc: 0.9744\n",
            "Epoch 3/5\n",
            "60000/60000 [==============================] - 16s 271us/step - loss: 0.0543 - acc: 0.9833\n",
            "Epoch 4/5\n",
            "60000/60000 [==============================] - 17s 275us/step - loss: 0.0369 - acc: 0.9885\n",
            "Epoch 5/5\n",
            "60000/60000 [==============================] - 16s 272us/step - loss: 0.0287 - acc: 0.9904\n",
            "10000/10000 [==============================] - 1s 103us/step\n"
          ],
          "name": "stdout"
        },
        {
          "output_type": "execute_result",
          "data": {
            "text/plain": [
              "[0.06859339086378459, 0.9798]"
            ]
          },
          "metadata": {
            "tags": []
          },
          "execution_count": 17
        }
      ]
    }
  ]
}